{
 "cells": [
  {
   "cell_type": "code",
   "execution_count": 1,
   "metadata": {},
   "outputs": [],
   "source": [
    "import csv\n",
    "import numpy as np\n",
    "import scipy.stats as stats"
   ]
  },
  {
   "cell_type": "code",
   "execution_count": null,
   "metadata": {},
   "outputs": [],
   "source": [
    "def find_x_for_probability(r):\n",
    "    x = stats.norm.ppf(1 - r)\n",
    "    return x"
   ]
  },
  {
   "cell_type": "code",
   "execution_count": null,
   "metadata": {},
   "outputs": [
    {
     "name": "stdout",
     "output_type": "stream",
     "text": [
      "-1.0364333894937898\n",
      "0.6744897501960817\n"
     ]
    }
   ],
   "source": [
    "n = 10000\n",
    "sigma = 1\n",
    "r_left = -find_x_for_probability(0.15)\n",
    "r_right = find_x_for_probability(0.25)\n",
    "print(r_left)\n",
    "print(r_right)"
   ]
  },
  {
   "cell_type": "markdown",
   "metadata": {},
   "source": [
    "### Writing examples into CSV"
   ]
  },
  {
   "cell_type": "code",
   "execution_count": 9,
   "metadata": {},
   "outputs": [],
   "source": [
    "with open(\"data.csv\", \"w\", newline='') as csvfile:\n",
    "    csv_writer = csv.writer(csvfile)\n",
    "\n",
    "    # Write the header,\n",
    "\n",
    "    csv_writer.writerow([n/10, sigma, 0])\n",
    "\n",
    "    # Write the data\n",
    "    for _ in range(n):\n",
    "        x = np.random.normal(loc=0.0, scale=sigma)\n",
    "        if x<0:\n",
    "            y=-1\n",
    "            if x < r_left:\n",
    "                y=1\n",
    "        else:\n",
    "            y=1\n",
    "            if x > r_right:\n",
    "                y=-1\n",
    "\n",
    "        \n",
    "        csv_writer.writerow([y, x])"
   ]
  }
 ],
 "metadata": {
  "kernelspec": {
   "display_name": "introtoml",
   "language": "python",
   "name": "python3"
  },
  "language_info": {
   "codemirror_mode": {
    "name": "ipython",
    "version": 3
   },
   "file_extension": ".py",
   "mimetype": "text/x-python",
   "name": "python",
   "nbconvert_exporter": "python",
   "pygments_lexer": "ipython3",
   "version": "3.9.18"
  }
 },
 "nbformat": 4,
 "nbformat_minor": 2
}
