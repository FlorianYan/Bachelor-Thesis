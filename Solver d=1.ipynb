{
 "cells": [
  {
   "cell_type": "code",
   "execution_count": 1,
   "metadata": {},
   "outputs": [],
   "source": [
    "import pandas as pd\n",
    "import numpy as np\n",
    "from scipy.optimize import linprog\n",
    "import matplotlib.pyplot as plt\n",
    "from scipy.stats import norm"
   ]
  },
  {
   "cell_type": "markdown",
   "metadata": {},
   "source": [
    "## Preprocess the data"
   ]
  },
  {
   "cell_type": "code",
   "execution_count": null,
   "metadata": {},
   "outputs": [],
   "source": [
    "data = pd.read_csv(\"data.csv\", header=None)\n",
    "data = data.to_numpy()\n",
    "\n",
    "points, sigma, r = data[0,0].astype('int64'), data[0,1], data[0,2]\n",
    "\n",
    "corrupted = True\n",
    "\n",
    "y = data[1:,0]\n",
    "X = data[1:,1]\n",
    "\n",
    "#y = data[\"y\"].to_numpy()\n",
    "#data = data.drop(columns=\"y\")\n",
    "#X = data.to_numpy()\n",
    "# print a few data samples\n",
    "#print(data.head())"
   ]
  },
  {
   "cell_type": "markdown",
   "metadata": {},
   "source": [
    "## L1 regression \n",
    "uses LP and solves $$min \\sum_{j=1}^m z_j$$\n",
    "such that for all j: $$ax_j+b-y_j \\leq z_j \\quad \\text{and} \\quad -ax_j-b+y_j \\leq z_j$$ and $$z_j \\geq 0$$"
   ]
  },
  {
   "cell_type": "code",
   "execution_count": 3,
   "metadata": {},
   "outputs": [],
   "source": [
    "def L1(X,y):\n",
    "    val = X.flatten()\n",
    "    m = len(y)\n",
    "    # Variables are: [a, b, slack_1, ..., slack_n]\n",
    "\n",
    "    # Coefficients for the objective function\n",
    "    c = np.zeros(m + 2)\n",
    "    c[2:] = 1  # We want to minimize the sum of slack variables\n",
    "\n",
    "    # Constraints matrix A_ub and vector b_ub for the inequalities A_ub @ x <= b_ub\n",
    "    A_ub = np.zeros((2 * m, m + 2))\n",
    "    b_ub = np.zeros(2 * m)\n",
    "\n",
    "    for i in range(m):\n",
    "        #ax_i\n",
    "        A_ub[i, 0] = val[i]\n",
    "        A_ub[m+i, 0] = -val[i]\n",
    "\n",
    "        #b\n",
    "        A_ub[i, 1] = 1\n",
    "        A_ub[m+i, 1] = -1\n",
    "\n",
    "        #z_i\n",
    "        A_ub[i, i+2] = -1\n",
    "        A_ub[m+i, i+2] = -1\n",
    "\n",
    "        #y_i\n",
    "        b_ub[i] = y[i]\n",
    "        b_ub[m+i] = -y[i]\n",
    "\n",
    "    # Bounds for the variables: a, b are unbounded, slack variables are >= 0\n",
    "    bounds = [(None, None), (None, None)] + [(0, None)] * m\n",
    "\n",
    "    # Solving the linear programming problem\n",
    "    result = linprog(c, A_ub=A_ub, b_ub=b_ub, bounds=bounds)\n",
    "\n",
    "    # Extracting the coefficients a and b\n",
    "    a_1, b_1 = result.x[0], result.x[1]\n",
    "\n",
    "    L1_train = result.fun/m\n",
    "    #print(f\"L1_train={L1_train}\")\n",
    "    #print(result.x[2:5])\n",
    "\n",
    "    #print(f\"a={a_1}, b={b_1}\")\n",
    "\n",
    "    return (a_1,b_1)"
   ]
  },
  {
   "cell_type": "markdown",
   "metadata": {},
   "source": [
    "## L2 regression\n",
    "Computes $$X^TXw = X^Ty$$, where $$w = (a,b)^T$$"
   ]
  },
  {
   "cell_type": "code",
   "execution_count": 4,
   "metadata": {},
   "outputs": [],
   "source": [
    "def L2(X,y):\n",
    "    X = X[:, np.newaxis]\n",
    "\n",
    "    ones_column = np.ones((X.shape[0], 1))\n",
    "\n",
    "    X = np.hstack((X, ones_column))\n",
    "\n",
    "    XtX = np.matmul(X.T, X)\n",
    "    print(XtX)\n",
    "    # Compute X^T * y\n",
    "    Xty = np.matmul(X.T, y)\n",
    "\n",
    "    print(Xty)\n",
    "\n",
    "    # Solve for w\n",
    "    w = np.linalg.solve(XtX, Xty)\n",
    "\n",
    "    a_2 = w[0]\n",
    "    b_2 = w[1]\n",
    "\n",
    "    #print(f\"a={a_2}, b={b_2}\")\n",
    "    return (a_2,b_2)"
   ]
  },
  {
   "cell_type": "markdown",
   "metadata": {},
   "source": [
    "## Main"
   ]
  },
  {
   "cell_type": "code",
   "execution_count": null,
   "metadata": {},
   "outputs": [
    {
     "name": "stdout",
     "output_type": "stream",
     "text": [
      "[[10129.55844873   114.60443528]\n",
      " [  114.60443528 10000.        ]]\n",
      "[  -52.36940443 -8980.        ]\n",
      "L1 coefficient: -0.0, -1.0\n",
      "L2 coefficient: 0.004990536692059975, -0.898057193763934\n"
     ]
    }
   ],
   "source": [
    "\n",
    "a_1,b_1 = L1(X,y)\n",
    "a_2,b_2 = L2(X,y)\n",
    "print(\"L1 coefficient: \"+ str(a_1) + \", \" + str(b_1) )\n",
    "print(\"L2 coefficient: \"+ str(a_2) + \", \" + str(b_2))"
   ]
  },
  {
   "cell_type": "markdown",
   "metadata": {},
   "source": [
    "## Finding optimal t_1 and t_2 using linear search"
   ]
  },
  {
   "cell_type": "code",
   "execution_count": 81,
   "metadata": {},
   "outputs": [],
   "source": [
    "def calculateEmpiricalError(results, t, y):\n",
    "    results = np.array(results)\n",
    "    hypothesis_results = np.sign(results-t)\n",
    "\n",
    "    sum = 0.0\n",
    "    for j in range(len(hypothesis_results)):\n",
    "        if y[j] != hypothesis_results[j]:\n",
    "            sum += 1.0\n",
    "\n",
    "    return sum/len(hypothesis_results)\n"
   ]
  },
  {
   "cell_type": "code",
   "execution_count": 82,
   "metadata": {},
   "outputs": [],
   "source": [
    "#calculate p_1,2(x^j) for all training point x\n",
    "p_1_pairs = [(a_1 * x + b_1, y_val) for x, y_val in zip(X, y)]\n",
    "p_2_pairs = [(a_2 * x + b_2, y_val) for x, y_val in zip(X, y)]\n",
    "\n",
    "#sort lists\n",
    "p_1_pairs_sorted = sorted(p_1_pairs, key=lambda pair: pair[0])\n",
    "p_2_pairs_sorted = sorted(p_2_pairs, key=lambda pair: pair[0])\n",
    "\n",
    "# Extract sorted p_1_results, p_2_results, and corresponding sorted y\n",
    "p_1_results_sorted = [pair[0] for pair in p_1_pairs_sorted]\n",
    "y_sorted_1 = [pair[1] for pair in p_1_pairs_sorted]\n",
    "\n",
    "p_2_results_sorted = [pair[0] for pair in p_2_pairs_sorted]\n",
    "y_sorted_2 = [pair[1] for pair in p_2_pairs_sorted]\n",
    "\n",
    "\n",
    "#initialize optimal t and empirical error\n",
    "t_1_opt = 0\n",
    "t_2_opt = 0\n",
    "\n",
    "curr_emp_err_1 = calculateEmpiricalError(p_1_results_sorted, t_1_opt, y_sorted_1)\n",
    "curr_emp_err_2 = calculateEmpiricalError(p_2_results_sorted, t_2_opt, y_sorted_2)\n",
    "\n",
    "#find t_1_opt by iterating through sorted p_1_results\n",
    "for i in range(1, len(X)):\n",
    "    left = max(-1.0, p_1_results_sorted[i-1])\n",
    "    right = min(1.0, p_1_results_sorted[i])\n",
    "\n",
    "    if left <= right:\n",
    "        curr_t_1 = (right + left) / 2.0\n",
    "        next_emp_err_1 = calculateEmpiricalError(p_1_results_sorted, curr_t_1, y_sorted_1)\n",
    "\n",
    "        if next_emp_err_1 < curr_emp_err_1:\n",
    "            t_1_opt = curr_t_1\n",
    "            curr_emp_err_1 = next_emp_err_1\n",
    "\n",
    "#find t_2_opt by iterating through sorted p_2_results\n",
    "for i in range(1, len(X)):\n",
    "    left = max(-1.0, p_2_results_sorted[i-1])\n",
    "    right = min(1.0, p_2_results_sorted[i])\n",
    "\n",
    "    if left <= right:\n",
    "        curr_t_2 = (right + left) / 2.0\n",
    "        next_emp_err_2 = calculateEmpiricalError(p_2_results_sorted, curr_t_2, y_sorted_2)\n",
    "\n",
    "        if next_emp_err_2 < curr_emp_err_2:\n",
    "            t_2_opt = curr_t_2\n",
    "            curr_emp_err_2 = next_emp_err_2\n"
   ]
  },
  {
   "cell_type": "markdown",
   "metadata": {},
   "source": [
    "## Print t_1,t_2 as well as L_1,L_2 and errors"
   ]
  },
  {
   "cell_type": "markdown",
   "metadata": {},
   "source": [
    "### if L1 returns a constant polynomial, we calculate errors differently"
   ]
  },
  {
   "cell_type": "code",
   "execution_count": 83,
   "metadata": {},
   "outputs": [],
   "source": [
    "L_1_error, L_2_error, actual_error = 0.0,0.0, 0.0\n",
    "\n",
    "#calculate L1,L2 errors\n",
    "for j in range(len(p_1_results_sorted)):\n",
    "    L_1_error += abs(p_1_results_sorted[j]-y_sorted_1[j])\n",
    "    L_2_error += (p_2_results_sorted[j]-y_sorted_2[j])**2\n",
    "    actual_error += y_sorted_1[j]+1\n",
    "\n",
    "L_1_error /= len(p_1_results_sorted)\n",
    "L_2_error /= len(p_1_results_sorted)\n",
    "actual_error /= len(p_1_results_sorted)"
   ]
  },
  {
   "cell_type": "code",
   "execution_count": 84,
   "metadata": {},
   "outputs": [],
   "source": [
    "constantL1 = (a_1 == 0.0)\n",
    "constantL1\n",
    "#If the L1 polynomial is the constant p(x)=-1, corrupted must be true in this case\n",
    "r_1 = 0.0\n",
    "if not constantL1:\n",
    "    r_1 = -(b_1-t_1_opt)/a_1\n",
    "r_2 = -(b_2-t_2_opt)/a_2\n",
    "\n",
    "#if corrupted:\n",
    "err_1 = norm.cdf(r_1) - 0.5 + 1 - norm.cdf(r)\n",
    "#err_2 = norm.cdf(r_2) - 0.5 + 1 - norm.cdf(r)\n",
    "err_2 = norm.cdf(r)-0.5 + 1.0-norm.cdf(r_2)\n",
    "if constantL1:\n",
    "    err_1 = norm.cdf(r) - 0.5\n",
    "#else:\n",
    "\n"
   ]
  },
  {
   "cell_type": "code",
   "execution_count": 85,
   "metadata": {},
   "outputs": [
    {
     "name": "stdout",
     "output_type": "stream",
     "text": [
      "r1=0.0, r2=179.95202704205295\n",
      "t1=0, t2=0\n",
      "err1=0.050000000000000044, err2=0.050000000000000044\n"
     ]
    }
   ],
   "source": [
    "print(f\"r1={r_1}, r2={r_2}\")\n",
    "print(f\"t1={t_1_opt}, t2={t_2_opt}\")\n",
    "#print(f\"L1_train={L_1_error}, L2_train={L_2_error}, -1_error={actual_error}\")\n",
    "print(f\"err1={err_1}, err2={err_2}\")"
   ]
  },
  {
   "cell_type": "markdown",
   "metadata": {},
   "source": [
    "## Plotting both results as well as the data distribution"
   ]
  },
  {
   "cell_type": "code",
   "execution_count": 24,
   "metadata": {},
   "outputs": [
    {
     "name": "stdout",
     "output_type": "stream",
     "text": [
      "0.0\n"
     ]
    },
    {
     "data": {
      "image/png": "[encoded data removed]",
      "text/plain": [
       "<Figure size 800x600 with 1 Axes>"
      ]
     },
     "metadata": {},
     "output_type": "display_data"
    }
   ],
   "source": [
    "x = np.arange(-2.0,2.0,0.01)\n",
    "\n",
    "p = (1 / np.sqrt(2 * np.pi)) * np.exp(-0.5 * x**2)\n",
    "y_1 = a_1 * x + b_1\n",
    "y_2 = a_2 * x + b_2\n",
    "\n",
    "h_1 = np.sign(a_1 * x + b_1-t_1_opt)\n",
    "h_2 = np.sign(a_2 * x + b_2-t_2_opt)\n",
    "\n",
    "print(b_1-t_1_opt)\n",
    "\n",
    "plt.figure(figsize=(8, 6))\n",
    "plt.plot(x, p, color=\"blue\", label=\"Normal distribution N(0.0,\"+str(sigma) +\")\")\n",
    "#plt.plot(x, y_1, color='red', label='L1: a=' + str(a_1) + \" b=\"+ str(b_1))\n",
    "#plt.plot(x, y_2, color='green', label='L2 a=' + str(a_2) + \" b=\"+ str(b_2))\n",
    "#plt.plot(x, np.sign(x), color = \"purple\", label=\"sgn(x)\")\n",
    "\n",
    "plt.plot(x, h_1, color = \"red\", label=\"h1\")\n",
    "#plt.plot(x, h_2, color = \"green\", label=\"h2\")\n",
    "\n",
    "plt.plot(x, np.zeros(x.shape), color=\"black\")\n",
    "\n",
    "\n",
    "\n",
    "plt.xlabel('X')\n",
    "plt.ylabel('Y')\n",
    "plt.title('L1 and L2 Regression Lines with Training Data')\n",
    "plt.legend()\n",
    "\n",
    "plt.show()"
   ]
  }
 ],
 "metadata": {
  "kernelspec": {
   "display_name": "introtoml",
   "language": "python",
   "name": "python3"
  },
  "language_info": {
   "codemirror_mode": {
    "name": "ipython",
    "version": 3
   },
   "file_extension": ".py",
   "mimetype": "text/x-python",
   "name": "python",
   "nbconvert_exporter": "python",
   "pygments_lexer": "ipython3",
   "version": "3.9.18"
  }
 },
 "nbformat": 4,
 "nbformat_minor": 2
}
