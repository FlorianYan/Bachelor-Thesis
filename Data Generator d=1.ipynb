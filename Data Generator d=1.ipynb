{
 "cells": [
  {
   "cell_type": "code",
   "execution_count": 1,
   "metadata": {},
   "outputs": [],
   "source": [
    "import csv\n",
    "import numpy as np\n",
    "import scipy.stats as stats"
   ]
  },
  {
   "cell_type": "code",
   "execution_count": null,
   "metadata": {},
   "outputs": [],
   "source": [
    "def find_x_for_probability(r):\n",
    "    x = stats.norm.ppf(1 - r)\n",
    "    return x"
   ]
  },
  {
   "cell_type": "code",
   "execution_count": 22,
   "metadata": {},
   "outputs": [
    {
     "name": "stdout",
     "output_type": "stream",
     "text": [
      "0.12566134685507416\n"
     ]
    }
   ],
   "source": [
    "n = 10000\n",
    "sigma = 1\n",
    "corrupted = True\n",
    "r = find_x_for_probability(0.45)\n",
    "print(r)"
   ]
  },
  {
   "cell_type": "markdown",
   "metadata": {},
   "source": [
    "### Writing examples into CSV"
   ]
  },
  {
   "cell_type": "code",
   "execution_count": 23,
   "metadata": {},
   "outputs": [],
   "source": [
    "with open(\"data.csv\", \"w\", newline='') as csvfile:\n",
    "    csv_writer = csv.writer(csvfile)\n",
    "\n",
    "    # Write the header,\n",
    "\n",
    "    csv_writer.writerow([n/10, sigma, r])\n",
    "\n",
    "    # Write the data\n",
    "    for _ in range(n):\n",
    "        x = np.random.normal(loc=0.0, scale=sigma)\n",
    "        if x<0:\n",
    "            y=-1\n",
    "        else:\n",
    "            y=1\n",
    "            if corrupted and x>r:\n",
    "                y=-1\n",
    "\n",
    "        \n",
    "        \n",
    "        csv_writer.writerow([y, x])"
   ]
  }
 ],
 "metadata": {
  "kernelspec": {
   "display_name": "introtoml",
   "language": "python",
   "name": "python3"
  },
  "language_info": {
   "codemirror_mode": {
    "name": "ipython",
    "version": 3
   },
   "file_extension": ".py",
   "mimetype": "text/x-python",
   "name": "python",
   "nbconvert_exporter": "python",
   "pygments_lexer": "ipython3",
   "version": "3.9.18"
  }
 },
 "nbformat": 4,
 "nbformat_minor": 2
}
